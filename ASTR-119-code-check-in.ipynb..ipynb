{
 "cells": [
  {
   "cell_type": "markdown",
   "id": "5dcebbab",
   "metadata": {},
   "source": [
    "Import numpy and matplotlib.pyplot as usual"
   ]
  },
  {
   "cell_type": "code",
   "execution_count": 5,
   "id": "6ed77ef9",
   "metadata": {},
   "outputs": [],
   "source": [
    "import numpy as np\n",
    "import matplotlib.pyplot as plt"
   ]
  },
  {
   "cell_type": "markdown",
   "id": "06795132",
   "metadata": {},
   "source": [
    "Declare integer i, set equal to zero. Declare a float x, set equal to 119"
   ]
  },
  {
   "cell_type": "code",
   "execution_count": 6,
   "id": "f46f7822",
   "metadata": {},
   "outputs": [],
   "source": [
    "i = 0\n",
    "x = 119"
   ]
  },
  {
   "cell_type": "markdown",
   "id": "64c2cfcd",
   "metadata": {},
   "source": [
    " Use a for loop, iterate i from 0 to 119 inclusive. For each even value (including 0) of i, add 3 to x. For each odd value of i, subtract 5 from x"
   ]
  },
  {
   "cell_type": "code",
   "execution_count": 7,
   "id": "3508440b",
   "metadata": {},
   "outputs": [],
   "source": [
    "for i in range(120):\n",
    "    # adding x with 3 if i is even\n",
    "    if i%2 == 0:\n",
    "      x = x + 3\n",
    "    # else subtracting 5 from x\n",
    "    else:\n",
    "      x = x - 5"
   ]
  },
  {
   "cell_type": "markdown",
   "id": "d9808a27",
   "metadata": {},
   "source": [
    "Print the final value of x in scientific notation using 2 decimal places"
   ]
  },
  {
   "cell_type": "code",
   "execution_count": 8,
   "id": "0b41b623",
   "metadata": {},
   "outputs": [
    {
     "name": "stdout",
     "output_type": "stream",
     "text": [
      "-1.00E+00\n"
     ]
    }
   ],
   "source": [
    "print(f\"{x:.2E}\")"
   ]
  }
 ],
 "metadata": {
  "kernelspec": {
   "display_name": "Python 3 (ipykernel)",
   "language": "python",
   "name": "python3"
  },
  "language_info": {
   "codemirror_mode": {
    "name": "ipython",
    "version": 3
   },
   "file_extension": ".py",
   "mimetype": "text/x-python",
   "name": "python",
   "nbconvert_exporter": "python",
   "pygments_lexer": "ipython3",
   "version": "3.9.7"
  }
 },
 "nbformat": 4,
 "nbformat_minor": 5
}
